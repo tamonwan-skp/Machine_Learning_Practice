{
 "cells": [
  {
   "cell_type": "markdown",
   "metadata": {},
   "source": [
    "### Simple Linear Regression for predicting Big Mac price"
   ]
  },
  {
   "cell_type": "markdown",
   "metadata": {},
   "source": [
    "Import data from https://github.com/TheEconomist/big-mac-data/raw/master/output-data/big-mac-adjusted-index.csv"
   ]
  },
  {
   "cell_type": "code",
   "execution_count": 1,
   "metadata": {},
   "outputs": [
    {
     "name": "stdout",
     "output_type": "stream",
     "text": [
      "Requirement already satisfied: numpy in c:\\python37\\lib\\site-packages (1.18.4)\n"
     ]
    },
    {
     "name": "stderr",
     "output_type": "stream",
     "text": [
      "WARNING: You are using pip version 20.1; however, version 20.1.1 is available.\n",
      "You should consider upgrading via the 'c:\\python37\\python.exe -m pip install --upgrade pip' command.\n"
     ]
    }
   ],
   "source": [
    "!Pip install numpy\n",
    "import pandas as pd\n",
    "import seaborn as sns\n",
    "import numpy as np\n",
    "import matplotlib.pyplot as plt\n",
    "%matplotlib inline\n",
    "%config InlineBackend.figure_format = 'retina'\n"
   ]
  },
  {
   "cell_type": "code",
   "execution_count": 2,
   "metadata": {},
   "outputs": [
    {
     "name": "stdout",
     "output_type": "stream",
     "text": [
      "{'1.0.3'}\n",
      "{'1.18.4'}\n",
      "{'0.10.1'}\n"
     ]
    }
   ],
   "source": [
    "print({pd.__version__})\n",
    "print({np.__version__})\n",
    "print({sns.__version__})"
   ]
  },
  {
   "cell_type": "code",
   "execution_count": 4,
   "metadata": {},
   "outputs": [
    {
     "data": {
      "text/html": [
       "<div>\n",
       "<style scoped>\n",
       "    .dataframe tbody tr th:only-of-type {\n",
       "        vertical-align: middle;\n",
       "    }\n",
       "\n",
       "    .dataframe tbody tr th {\n",
       "        vertical-align: top;\n",
       "    }\n",
       "\n",
       "    .dataframe thead th {\n",
       "        text-align: right;\n",
       "    }\n",
       "</style>\n",
       "<table border=\"1\" class=\"dataframe\">\n",
       "  <thead>\n",
       "    <tr style=\"text-align: right;\">\n",
       "      <th></th>\n",
       "      <th>date</th>\n",
       "      <th>iso_a3</th>\n",
       "      <th>currency_code</th>\n",
       "      <th>name</th>\n",
       "      <th>local_price</th>\n",
       "      <th>dollar_ex</th>\n",
       "      <th>dollar_price</th>\n",
       "      <th>GDP_dollar</th>\n",
       "      <th>adj_price</th>\n",
       "      <th>USD</th>\n",
       "      <th>EUR</th>\n",
       "      <th>GBP</th>\n",
       "      <th>JPY</th>\n",
       "      <th>CNY</th>\n",
       "    </tr>\n",
       "  </thead>\n",
       "  <tbody>\n",
       "    <tr>\n",
       "      <th>0</th>\n",
       "      <td>2011-07-01</td>\n",
       "      <td>ARG</td>\n",
       "      <td>ARS</td>\n",
       "      <td>Argentina</td>\n",
       "      <td>20.00</td>\n",
       "      <td>4.132500</td>\n",
       "      <td>4.839685</td>\n",
       "      <td>9138.177</td>\n",
       "      <td>3.149757</td>\n",
       "      <td>1.011</td>\n",
       "      <td>0.475</td>\n",
       "      <td>0.850</td>\n",
       "      <td>0.906</td>\n",
       "      <td>0.946</td>\n",
       "    </tr>\n",
       "    <tr>\n",
       "      <th>1</th>\n",
       "      <td>2011-07-01</td>\n",
       "      <td>AUS</td>\n",
       "      <td>AUD</td>\n",
       "      <td>Australia</td>\n",
       "      <td>4.56</td>\n",
       "      <td>0.922382</td>\n",
       "      <td>4.943724</td>\n",
       "      <td>55589.549</td>\n",
       "      <td>5.792526</td>\n",
       "      <td>0.117</td>\n",
       "      <td>-0.181</td>\n",
       "      <td>0.027</td>\n",
       "      <td>0.059</td>\n",
       "      <td>0.081</td>\n",
       "    </tr>\n",
       "    <tr>\n",
       "      <th>2</th>\n",
       "      <td>2011-07-01</td>\n",
       "      <td>BRA</td>\n",
       "      <td>BRL</td>\n",
       "      <td>Brazil</td>\n",
       "      <td>9.50</td>\n",
       "      <td>1.541600</td>\n",
       "      <td>6.162429</td>\n",
       "      <td>10816.487</td>\n",
       "      <td>3.245241</td>\n",
       "      <td>1.485</td>\n",
       "      <td>0.823</td>\n",
       "      <td>1.286</td>\n",
       "      <td>1.356</td>\n",
       "      <td>1.405</td>\n",
       "    </tr>\n",
       "    <tr>\n",
       "      <th>3</th>\n",
       "      <td>2011-07-01</td>\n",
       "      <td>GBR</td>\n",
       "      <td>GBP</td>\n",
       "      <td>Britain</td>\n",
       "      <td>2.39</td>\n",
       "      <td>0.614137</td>\n",
       "      <td>3.891637</td>\n",
       "      <td>36119.846</td>\n",
       "      <td>4.684831</td>\n",
       "      <td>0.087</td>\n",
       "      <td>-0.202</td>\n",
       "      <td>0.000</td>\n",
       "      <td>0.031</td>\n",
       "      <td>0.052</td>\n",
       "    </tr>\n",
       "    <tr>\n",
       "      <th>4</th>\n",
       "      <td>2011-07-01</td>\n",
       "      <td>CAN</td>\n",
       "      <td>CAD</td>\n",
       "      <td>Canada</td>\n",
       "      <td>4.73</td>\n",
       "      <td>0.945850</td>\n",
       "      <td>5.000793</td>\n",
       "      <td>46214.914</td>\n",
       "      <td>5.259173</td>\n",
       "      <td>0.244</td>\n",
       "      <td>-0.087</td>\n",
       "      <td>0.145</td>\n",
       "      <td>0.180</td>\n",
       "      <td>0.204</td>\n",
       "    </tr>\n",
       "  </tbody>\n",
       "</table>\n",
       "</div>"
      ],
      "text/plain": [
       "        date iso_a3 currency_code       name  local_price  dollar_ex  \\\n",
       "0 2011-07-01    ARG           ARS  Argentina        20.00   4.132500   \n",
       "1 2011-07-01    AUS           AUD  Australia         4.56   0.922382   \n",
       "2 2011-07-01    BRA           BRL     Brazil         9.50   1.541600   \n",
       "3 2011-07-01    GBR           GBP    Britain         2.39   0.614137   \n",
       "4 2011-07-01    CAN           CAD     Canada         4.73   0.945850   \n",
       "\n",
       "   dollar_price  GDP_dollar  adj_price    USD    EUR    GBP    JPY    CNY  \n",
       "0      4.839685    9138.177   3.149757  1.011  0.475  0.850  0.906  0.946  \n",
       "1      4.943724   55589.549   5.792526  0.117 -0.181  0.027  0.059  0.081  \n",
       "2      6.162429   10816.487   3.245241  1.485  0.823  1.286  1.356  1.405  \n",
       "3      3.891637   36119.846   4.684831  0.087 -0.202  0.000  0.031  0.052  \n",
       "4      5.000793   46214.914   5.259173  0.244 -0.087  0.145  0.180  0.204  "
      ]
     },
     "execution_count": 4,
     "metadata": {},
     "output_type": "execute_result"
    }
   ],
   "source": [
    "url = 'https://github.com/TheEconomist/big-mac-data/raw/master/output-data/big-mac-adjusted-index.csv'\n",
    "df=pd.read_csv(url, parse_dates=['date'])\n",
    "df.head()"
   ]
  },
  {
   "cell_type": "code",
   "execution_count": 5,
   "metadata": {},
   "outputs": [
    {
     "name": "stdout",
     "output_type": "stream",
     "text": [
      "<class 'pandas.core.frame.DataFrame'>\n",
      "RangeIndex: 665 entries, 0 to 664\n",
      "Data columns (total 14 columns):\n",
      " #   Column         Non-Null Count  Dtype         \n",
      "---  ------         --------------  -----         \n",
      " 0   date           665 non-null    datetime64[ns]\n",
      " 1   iso_a3         665 non-null    object        \n",
      " 2   currency_code  665 non-null    object        \n",
      " 3   name           665 non-null    object        \n",
      " 4   local_price    665 non-null    float64       \n",
      " 5   dollar_ex      665 non-null    float64       \n",
      " 6   dollar_price   665 non-null    float64       \n",
      " 7   GDP_dollar     665 non-null    float64       \n",
      " 8   adj_price      665 non-null    float64       \n",
      " 9   USD            665 non-null    float64       \n",
      " 10  EUR            665 non-null    float64       \n",
      " 11  GBP            665 non-null    float64       \n",
      " 12  JPY            665 non-null    float64       \n",
      " 13  CNY            665 non-null    float64       \n",
      "dtypes: datetime64[ns](1), float64(10), object(3)\n",
      "memory usage: 65.0+ KB\n"
     ]
    }
   ],
   "source": [
    "df.info()"
   ]
  },
  {
   "cell_type": "code",
   "execution_count": 7,
   "metadata": {},
   "outputs": [
    {
     "data": {
      "text/html": [
       "<div>\n",
       "<style scoped>\n",
       "    .dataframe tbody tr th:only-of-type {\n",
       "        vertical-align: middle;\n",
       "    }\n",
       "\n",
       "    .dataframe tbody tr th {\n",
       "        vertical-align: top;\n",
       "    }\n",
       "\n",
       "    .dataframe thead th {\n",
       "        text-align: right;\n",
       "    }\n",
       "</style>\n",
       "<table border=\"1\" class=\"dataframe\">\n",
       "  <thead>\n",
       "    <tr style=\"text-align: right;\">\n",
       "      <th></th>\n",
       "      <th>date</th>\n",
       "      <th>iso_a3</th>\n",
       "      <th>currency_code</th>\n",
       "      <th>name</th>\n",
       "      <th>local_price</th>\n",
       "      <th>dollar_ex</th>\n",
       "      <th>dollar_price</th>\n",
       "      <th>GDP_dollar</th>\n",
       "      <th>adj_price</th>\n",
       "      <th>USD</th>\n",
       "      <th>EUR</th>\n",
       "      <th>GBP</th>\n",
       "      <th>JPY</th>\n",
       "      <th>CNY</th>\n",
       "    </tr>\n",
       "  </thead>\n",
       "  <tbody>\n",
       "    <tr>\n",
       "      <th>554</th>\n",
       "      <td>2019-01-01</td>\n",
       "      <td>ARG</td>\n",
       "      <td>ARS</td>\n",
       "      <td>Argentina</td>\n",
       "      <td>75.00</td>\n",
       "      <td>37.455000</td>\n",
       "      <td>2.002403</td>\n",
       "      <td>14462.920</td>\n",
       "      <td>3.165211</td>\n",
       "      <td>-0.419</td>\n",
       "      <td>-0.434</td>\n",
       "      <td>-0.338</td>\n",
       "      <td>-0.261</td>\n",
       "      <td>-0.396</td>\n",
       "    </tr>\n",
       "    <tr>\n",
       "      <th>555</th>\n",
       "      <td>2019-01-01</td>\n",
       "      <td>AUS</td>\n",
       "      <td>AUD</td>\n",
       "      <td>Australia</td>\n",
       "      <td>6.10</td>\n",
       "      <td>1.401640</td>\n",
       "      <td>4.352045</td>\n",
       "      <td>55692.730</td>\n",
       "      <td>4.945273</td>\n",
       "      <td>-0.192</td>\n",
       "      <td>-0.213</td>\n",
       "      <td>-0.080</td>\n",
       "      <td>0.028</td>\n",
       "      <td>-0.160</td>\n",
       "    </tr>\n",
       "    <tr>\n",
       "      <th>556</th>\n",
       "      <td>2019-01-01</td>\n",
       "      <td>BRA</td>\n",
       "      <td>BRL</td>\n",
       "      <td>Brazil</td>\n",
       "      <td>16.90</td>\n",
       "      <td>3.717950</td>\n",
       "      <td>4.545516</td>\n",
       "      <td>9895.765</td>\n",
       "      <td>2.968028</td>\n",
       "      <td>0.406</td>\n",
       "      <td>0.370</td>\n",
       "      <td>0.601</td>\n",
       "      <td>0.789</td>\n",
       "      <td>0.463</td>\n",
       "    </tr>\n",
       "    <tr>\n",
       "      <th>557</th>\n",
       "      <td>2019-01-01</td>\n",
       "      <td>GBR</td>\n",
       "      <td>GBP</td>\n",
       "      <td>Britain</td>\n",
       "      <td>3.19</td>\n",
       "      <td>0.783208</td>\n",
       "      <td>4.072992</td>\n",
       "      <td>39800.274</td>\n",
       "      <td>4.259130</td>\n",
       "      <td>-0.122</td>\n",
       "      <td>-0.145</td>\n",
       "      <td>0.000</td>\n",
       "      <td>0.117</td>\n",
       "      <td>-0.087</td>\n",
       "    </tr>\n",
       "    <tr>\n",
       "      <th>558</th>\n",
       "      <td>2019-01-01</td>\n",
       "      <td>CAN</td>\n",
       "      <td>CAD</td>\n",
       "      <td>Canada</td>\n",
       "      <td>6.77</td>\n",
       "      <td>1.331400</td>\n",
       "      <td>5.084873</td>\n",
       "      <td>45094.605</td>\n",
       "      <td>4.487708</td>\n",
       "      <td>0.040</td>\n",
       "      <td>0.013</td>\n",
       "      <td>0.185</td>\n",
       "      <td>0.323</td>\n",
       "      <td>0.082</td>\n",
       "    </tr>\n",
       "  </tbody>\n",
       "</table>\n",
       "</div>"
      ],
      "text/plain": [
       "          date iso_a3 currency_code       name  local_price  dollar_ex  \\\n",
       "554 2019-01-01    ARG           ARS  Argentina        75.00  37.455000   \n",
       "555 2019-01-01    AUS           AUD  Australia         6.10   1.401640   \n",
       "556 2019-01-01    BRA           BRL     Brazil        16.90   3.717950   \n",
       "557 2019-01-01    GBR           GBP    Britain         3.19   0.783208   \n",
       "558 2019-01-01    CAN           CAD     Canada         6.77   1.331400   \n",
       "\n",
       "     dollar_price  GDP_dollar  adj_price    USD    EUR    GBP    JPY    CNY  \n",
       "554      2.002403   14462.920   3.165211 -0.419 -0.434 -0.338 -0.261 -0.396  \n",
       "555      4.352045   55692.730   4.945273 -0.192 -0.213 -0.080  0.028 -0.160  \n",
       "556      4.545516    9895.765   2.968028  0.406  0.370  0.601  0.789  0.463  \n",
       "557      4.072992   39800.274   4.259130 -0.122 -0.145  0.000  0.117 -0.087  \n",
       "558      5.084873   45094.605   4.487708  0.040  0.013  0.185  0.323  0.082  "
      ]
     },
     "execution_count": 7,
     "metadata": {},
     "output_type": "execute_result"
    }
   ],
   "source": [
    "df =df[(df['date'].dt.year==2019)&(df['date'].dt.month==1)]\n",
    "df.head()"
   ]
  },
  {
   "cell_type": "markdown",
   "metadata": {},
   "source": [
    "### Explore Data"
   ]
  },
  {
   "cell_type": "code",
   "execution_count": 8,
   "metadata": {},
   "outputs": [
    {
     "data": {
      "text/plain": [
       "<seaborn.axisgrid.FacetGrid at 0x4bd4110>"
      ]
     },
     "execution_count": 8,
     "metadata": {},
     "output_type": "execute_result"
    },
    {
     "data": {
      "image/png": "[encoded data removed]",
      "text/plain": [
       "<Figure size 360x360 with 1 Axes>"
      ]
     },
     "metadata": {
      "image/png": {
       "height": 351,
       "width": 351
      },
      "needs_background": "light"
     },
     "output_type": "display_data"
    }
   ],
   "source": [
    "sns.lmplot(x='GDP_dollar',y='dollar_price',data=df, ci=None)"
   ]
  },
  {
   "cell_type": "code",
   "execution_count": 10,
   "metadata": {},
   "outputs": [
    {
     "data": {
      "text/plain": [
       "<seaborn.axisgrid.JointGrid at 0xf0dbbf0>"
      ]
     },
     "execution_count": 10,
     "metadata": {},
     "output_type": "execute_result"
    },
    {
     "data": {
      "image/png": "[encoded data removed]",
      "text/plain": [
       "<Figure size 432x432 with 3 Axes>"
      ]
     },
     "metadata": {
      "image/png": {
       "height": 433,
       "width": 414
      },
      "needs_background": "light"
     },
     "output_type": "display_data"
    }
   ],
   "source": [
    "sns.jointplot(x='GDP_dollar', y='dollar_price', data =df,kind='reg', ci =None)"
   ]
  },
  {
   "cell_type": "markdown",
   "metadata": {},
   "source": [
    "### Scikit-Learn : Linear Regression"
   ]
  },
  {
   "cell_type": "code",
   "execution_count": 11,
   "metadata": {},
   "outputs": [],
   "source": [
    "import sklearn\n",
    "from sklearn.linear_model import LinearRegression"
   ]
  },
  {
   "cell_type": "code",
   "execution_count": 12,
   "metadata": {},
   "outputs": [
    {
     "name": "stdout",
     "output_type": "stream",
     "text": [
      "{'0.23.1'}\n"
     ]
    }
   ],
   "source": [
    "print({sklearn.__version__})"
   ]
  },
  {
   "cell_type": "code",
   "execution_count": 13,
   "metadata": {},
   "outputs": [
    {
     "data": {
      "text/plain": [
       "LinearRegression()"
      ]
     },
     "execution_count": 13,
     "metadata": {},
     "output_type": "execute_result"
    }
   ],
   "source": [
    "model = LinearRegression()\n",
    "model"
   ]
  },
  {
   "cell_type": "code",
   "execution_count": 15,
   "metadata": {},
   "outputs": [],
   "source": [
    "x = df[['GDP_dollar']] #ต้องเป็น array 2 มิติ\n",
    "y = df.dollar_price #เป็น series ถูกแล้ว"
   ]
  },
  {
   "cell_type": "code",
   "execution_count": 16,
   "metadata": {},
   "outputs": [
    {
     "data": {
      "text/plain": [
       "LinearRegression()"
      ]
     },
     "execution_count": 16,
     "metadata": {},
     "output_type": "execute_result"
    }
   ],
   "source": [
    "model.fit(x,y)"
   ]
  },
  {
   "cell_type": "code",
   "execution_count": 17,
   "metadata": {},
   "outputs": [
    {
     "data": {
      "text/plain": [
       "0.6312750690042254"
      ]
     },
     "execution_count": 17,
     "metadata": {},
     "output_type": "execute_result"
    }
   ],
   "source": [
    "model.score(x,y) # R-squared"
   ]
  },
  {
   "cell_type": "code",
   "execution_count": 18,
   "metadata": {},
   "outputs": [
    {
     "data": {
      "text/plain": [
       "2.4327271614712926"
      ]
     },
     "execution_count": 18,
     "metadata": {},
     "output_type": "execute_result"
    }
   ],
   "source": [
    "model.intercept_"
   ]
  },
  {
   "cell_type": "code",
   "execution_count": 19,
   "metadata": {},
   "outputs": [
    {
     "data": {
      "text/plain": [
       "array([4.36961383e-05])"
      ]
     },
     "execution_count": 19,
     "metadata": {},
     "output_type": "execute_result"
    }
   ],
   "source": [
    "model.coef_"
   ]
  },
  {
   "cell_type": "markdown",
   "metadata": {},
   "source": [
    "### ทดลอง predict ราคาสินค้า จาก ค่า GDP ที่กำหนดขึ้นเอง \n",
    "   ##### Note : model.predict(x) : x ต้องเป็น array 2 dimensions เสมอ "
   ]
  },
  {
   "cell_type": "code",
   "execution_count": 20,
   "metadata": {},
   "outputs": [
    {
     "data": {
      "text/plain": [
       "array([2.82599241])"
      ]
     },
     "execution_count": 20,
     "metadata": {},
     "output_type": "execute_result"
    }
   ],
   "source": [
    "model.predict([[9000]])"
   ]
  },
  {
   "cell_type": "code",
   "execution_count": 21,
   "metadata": {},
   "outputs": [
    {
     "data": {
      "text/plain": [
       "array([2.82599241, 4.18057269])"
      ]
     },
     "execution_count": 21,
     "metadata": {},
     "output_type": "execute_result"
    }
   ],
   "source": [
    "model.predict([[9000],[40000]])"
   ]
  },
  {
   "cell_type": "code",
   "execution_count": 22,
   "metadata": {},
   "outputs": [
    {
     "data": {
      "text/plain": [
       "array([ 5000,  7500, 10000, 12500, 15000, 17500, 20000, 22500, 25000,\n",
       "       27500, 30000, 32500, 35000, 37500, 40000, 42500, 45000, 47500,\n",
       "       50000])"
      ]
     },
     "execution_count": 22,
     "metadata": {},
     "output_type": "execute_result"
    }
   ],
   "source": [
    "np.arange(5000,50001,2500) #(start:ending+1:step)"
   ]
  },
  {
   "cell_type": "code",
   "execution_count": 24,
   "metadata": {},
   "outputs": [],
   "source": [
    "model_test = np.arange(5000,50001,2500).reshape(-1,1)"
   ]
  },
  {
   "cell_type": "code",
   "execution_count": 25,
   "metadata": {},
   "outputs": [
    {
     "data": {
      "text/plain": [
       "array([2.65120785, 2.7604482 , 2.86968854, 2.97892889, 3.08816924,\n",
       "       3.19740958, 3.30664993, 3.41589027, 3.52513062, 3.63437096,\n",
       "       3.74361131, 3.85285166, 3.962092  , 4.07133235, 4.18057269,\n",
       "       4.28981304, 4.39905338, 4.50829373, 4.61753407])"
      ]
     },
     "execution_count": 25,
     "metadata": {},
     "output_type": "execute_result"
    }
   ],
   "source": [
    "model.predict(model_test)"
   ]
  },
  {
   "cell_type": "code",
   "execution_count": 26,
   "metadata": {},
   "outputs": [
    {
     "data": {
      "text/plain": [
       "array([ 5000.        ,  7368.42105263,  9736.84210526, 12105.26315789,\n",
       "       14473.68421053, 16842.10526316, 19210.52631579, 21578.94736842,\n",
       "       23947.36842105, 26315.78947368, 28684.21052632, 31052.63157895,\n",
       "       33421.05263158, 35789.47368421, 38157.89473684, 40526.31578947,\n",
       "       42894.73684211, 45263.15789474, 47631.57894737, 50000.        ])"
      ]
     },
     "execution_count": 26,
     "metadata": {},
     "output_type": "execute_result"
    }
   ],
   "source": [
    "np.linspace(5000,50000,20)"
   ]
  },
  {
   "cell_type": "code",
   "execution_count": 27,
   "metadata": {},
   "outputs": [
    {
     "data": {
      "text/plain": [
       "array([[ 5000.        ],\n",
       "       [ 7368.42105263],\n",
       "       [ 9736.84210526],\n",
       "       [12105.26315789],\n",
       "       [14473.68421053],\n",
       "       [16842.10526316],\n",
       "       [19210.52631579],\n",
       "       [21578.94736842],\n",
       "       [23947.36842105],\n",
       "       [26315.78947368],\n",
       "       [28684.21052632],\n",
       "       [31052.63157895],\n",
       "       [33421.05263158],\n",
       "       [35789.47368421],\n",
       "       [38157.89473684],\n",
       "       [40526.31578947],\n",
       "       [42894.73684211],\n",
       "       [45263.15789474],\n",
       "       [47631.57894737],\n",
       "       [50000.        ]])"
      ]
     },
     "execution_count": 27,
     "metadata": {},
     "output_type": "execute_result"
    }
   ],
   "source": [
    "np.linspace(5000,50000,20).reshape(-1,1)"
   ]
  },
  {
   "cell_type": "code",
   "execution_count": null,
   "metadata": {},
   "outputs": [],
   "source": []
  },
  {
   "cell_type": "code",
   "execution_count": null,
   "metadata": {},
   "outputs": [],
   "source": []
  }
 ],
 "metadata": {
  "kernelspec": {
   "display_name": "Python 3",
   "language": "python",
   "name": "python3"
  },
  "language_info": {
   "codemirror_mode": {
    "name": "ipython",
    "version": 3
   },
   "file_extension": ".py",
   "mimetype": "text/x-python",
   "name": "python",
   "nbconvert_exporter": "python",
   "pygments_lexer": "ipython3",
   "version": "3.7.4"
  }
 },
 "nbformat": 4,
 "nbformat_minor": 4
}
